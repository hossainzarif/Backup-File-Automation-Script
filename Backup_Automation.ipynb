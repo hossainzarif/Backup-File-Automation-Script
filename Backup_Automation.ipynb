{
 "cells": [
  {
   "cell_type": "code",
   "execution_count": 62,
   "metadata": {},
   "outputs": [],
   "source": [
    "import os \n",
    "import pandas as pd \n",
    "import datetime\n",
    "from shutil import copyfile\n",
    "from pathlib import Path \n",
    "from collections import namedtuple\n",
    "from datetime import datetime\n"
   ]
  },
  {
   "cell_type": "code",
   "execution_count": 63,
   "metadata": {},
   "outputs": [
    {
     "name": "stdout",
     "output_type": "stream",
     "text": [
      "date and time: 04-22-2021-10:11:37\n"
     ]
    }
   ],
   "source": [
    "\n",
    "now = datetime.now() # current date and time\n",
    "date_time = now.strftime(\"%m-%d-%Y-%I-%M-%S\")\n",
    "\n",
    "print(\"date and time:\",date_time)\t"
   ]
  },
  {
   "cell_type": "code",
   "execution_count": 111,
   "metadata": {},
   "outputs": [],
   "source": [
    "File = namedtuple('File','name path size last_modified_date,last_backup_date')"
   ]
  },
  {
   "cell_type": "code",
   "execution_count": 112,
   "metadata": {},
   "outputs": [],
   "source": [
    "folder_path = Path(r'E:\\thesis\\Prev Papers')\n"
   ]
  },
  {
   "cell_type": "code",
   "execution_count": null,
   "metadata": {},
   "outputs": [],
   "source": [
    "\n",
    "files =[]\n",
    "\n",
    "# iterate in every files of a directory.\n",
    "for item in folder_path.glob('*.*'):\n",
    "    if item.suffix in ['.pdf']:\n",
    "        name = item.name\n",
    "        path= Path.resolve(item).parent\n",
    "        size = str((item.stat().st_size)/10**6)+\" MB\"# size of the file\n",
    "        modified = datetime.fromtimestamp(item.stat().st_mtime).strftime(\"%m-%d-%Y-%I-%M-%S\")\n",
    "        dt_back = now.strftime(\"%m-%d-%Y-%I-%M-%S\")\n",
    "        \n",
    "        dt_back = (dt_back.split(\"-\"))\n",
    "        dt_mod = (dt_mod.split(\"-\"))\n",
    "\n",
    "        x = list(map(int, dt_mod))\n",
    "        y = list(map(int, dt_back))\n",
    "        \n",
    "        \n",
    "        dt_mod = datetime(x[0],x[1],x[2],x[3],x[4],x[5])\n",
    "        dt_back = datetime(y[0],y[1],y[2],y[3],y[4],y[5])\n",
    "        \n",
    "        if(dt_mod>dt_back):\n",
    "                copyfile(path+'\\\\'+name,Path(r'E:\\thesis'+'\\\\'+' backup '+backup_date))\n",
    "        else:\n",
    "            backup_date = 'No BackUp Yet' \n",
    "            \n",
    "            \n",
    "        \n",
    "        files.append(File(name,path,size,modified,backup_date))\n",
    "        "
   ]
  },
  {
   "cell_type": "code",
   "execution_count": 114,
   "metadata": {},
   "outputs": [
    {
     "name": "stdout",
     "output_type": "stream",
     "text": [
      "[File(name='1908.02983.pdf', path=WindowsPath('E:/thesis/Prev Papers'), size='0.923003 MB', last_modified_date='12-23-2020-01-26-27'), File(name='2101.06480.pdf', path=WindowsPath('E:/thesis/Prev Papers'), size='0.366533 MB', last_modified_date='04-22-2021-10-09-50'), File(name='Alphamatch.pdf', path=WindowsPath('E:/thesis/Prev Papers'), size='3.448169 MB', last_modified_date='03-08-2021-01-05-10'), File(name='chen20s.pdf', path=WindowsPath('E:/thesis/Prev Papers'), size='2.093643 MB', last_modified_date='12-22-2020-11-42-03'), File(name='cs5811-ch03-search-b-informed-v2.pdf', path=WindowsPath('E:/thesis/Prev Papers'), size='0.342854 MB', last_modified_date='01-03-2021-02-26-51'), File(name='cs5811-ch03-search-b-informed-v2_2.pdf', path=WindowsPath('E:/thesis/Prev Papers'), size='0.342854 MB', last_modified_date='01-03-2021-11-07-36'), File(name='CSD Research Summary.pdf', path=WindowsPath('E:/thesis/Prev Papers'), size='0.068904 MB', last_modified_date='03-12-2021-09-43-00'), File(name='ex-ans.pdf', path=WindowsPath('E:/thesis/Prev Papers'), size='0.195509 MB', last_modified_date='01-09-2021-04-07-59'), File(name='FIX MATCH.pdf', path=WindowsPath('E:/thesis/Prev Papers'), size='0.770166 MB', last_modified_date='02-26-2021-04-54-50'), File(name='Lec6_Search5-F2010-4up.pdf', path=WindowsPath('E:/thesis/Prev Papers'), size='0.198568 MB', last_modified_date='01-03-2021-02-26-51'), File(name='NeurIPS-2020-big-self-supervised-models-are-strong-semi-supervised-learners-Paper.pdf', path=WindowsPath('E:/thesis/Prev Papers'), size='0.442188 MB', last_modified_date='12-21-2020-06-57-39'), File(name='NeurIPS-2020-bootstrap-your-own-latent-a-new-approach-to-self-supervised-learning-Paper.pdf', path=WindowsPath('E:/thesis/Prev Papers'), size='0.812358 MB', last_modified_date='12-21-2020-06-53-01'), File(name='NeurIPS-2020-unsupervised-learning-of-visual-features-by-contrasting-cluster-assignments-Paper.pdf', path=WindowsPath('E:/thesis/Prev Papers'), size='0.394613 MB', last_modified_date='12-23-2020-12-41-51'), File(name='Patterns of Enterprise Application Architecture - Martin Fowler.pdf', path=WindowsPath('E:/thesis/Prev Papers'), size='4.087022 MB', last_modified_date='12-22-2020-01-10-15'), File(name='remixmatch_semi_supervised_learning_with_distribution_matching_and_augmentation_anchoring-Original Pdf.pdf', path=WindowsPath('E:/thesis/Prev Papers'), size='0.287147 MB', last_modified_date='12-22-2020-11-40-17'), File(name='veloso-PDDL_by_Example.pdf', path=WindowsPath('E:/thesis/Prev Papers'), size='0.061061 MB', last_modified_date='01-07-2021-09-51-15')]\n"
     ]
    }
   ],
   "source": [
    "print(files)"
   ]
  },
  {
   "cell_type": "code",
   "execution_count": 115,
   "metadata": {},
   "outputs": [
    {
     "data": {
      "text/html": [
       "<div>\n",
       "<style scoped>\n",
       "    .dataframe tbody tr th:only-of-type {\n",
       "        vertical-align: middle;\n",
       "    }\n",
       "\n",
       "    .dataframe tbody tr th {\n",
       "        vertical-align: top;\n",
       "    }\n",
       "\n",
       "    .dataframe thead th {\n",
       "        text-align: right;\n",
       "    }\n",
       "</style>\n",
       "<table border=\"1\" class=\"dataframe\">\n",
       "  <thead>\n",
       "    <tr style=\"text-align: right;\">\n",
       "      <th></th>\n",
       "      <th>name</th>\n",
       "      <th>path</th>\n",
       "      <th>size</th>\n",
       "      <th>last_modified_date</th>\n",
       "    </tr>\n",
       "  </thead>\n",
       "  <tbody>\n",
       "    <tr>\n",
       "      <th>0</th>\n",
       "      <td>1908.02983.pdf</td>\n",
       "      <td>E:\\thesis\\Prev Papers</td>\n",
       "      <td>0.923003 MB</td>\n",
       "      <td>12-23-2020-01-26-27</td>\n",
       "    </tr>\n",
       "    <tr>\n",
       "      <th>1</th>\n",
       "      <td>2101.06480.pdf</td>\n",
       "      <td>E:\\thesis\\Prev Papers</td>\n",
       "      <td>0.366533 MB</td>\n",
       "      <td>04-22-2021-10-09-50</td>\n",
       "    </tr>\n",
       "    <tr>\n",
       "      <th>2</th>\n",
       "      <td>Alphamatch.pdf</td>\n",
       "      <td>E:\\thesis\\Prev Papers</td>\n",
       "      <td>3.448169 MB</td>\n",
       "      <td>03-08-2021-01-05-10</td>\n",
       "    </tr>\n",
       "    <tr>\n",
       "      <th>3</th>\n",
       "      <td>chen20s.pdf</td>\n",
       "      <td>E:\\thesis\\Prev Papers</td>\n",
       "      <td>2.093643 MB</td>\n",
       "      <td>12-22-2020-11-42-03</td>\n",
       "    </tr>\n",
       "    <tr>\n",
       "      <th>4</th>\n",
       "      <td>cs5811-ch03-search-b-informed-v2.pdf</td>\n",
       "      <td>E:\\thesis\\Prev Papers</td>\n",
       "      <td>0.342854 MB</td>\n",
       "      <td>01-03-2021-02-26-51</td>\n",
       "    </tr>\n",
       "    <tr>\n",
       "      <th>5</th>\n",
       "      <td>cs5811-ch03-search-b-informed-v2_2.pdf</td>\n",
       "      <td>E:\\thesis\\Prev Papers</td>\n",
       "      <td>0.342854 MB</td>\n",
       "      <td>01-03-2021-11-07-36</td>\n",
       "    </tr>\n",
       "    <tr>\n",
       "      <th>6</th>\n",
       "      <td>CSD Research Summary.pdf</td>\n",
       "      <td>E:\\thesis\\Prev Papers</td>\n",
       "      <td>0.068904 MB</td>\n",
       "      <td>03-12-2021-09-43-00</td>\n",
       "    </tr>\n",
       "    <tr>\n",
       "      <th>7</th>\n",
       "      <td>ex-ans.pdf</td>\n",
       "      <td>E:\\thesis\\Prev Papers</td>\n",
       "      <td>0.195509 MB</td>\n",
       "      <td>01-09-2021-04-07-59</td>\n",
       "    </tr>\n",
       "    <tr>\n",
       "      <th>8</th>\n",
       "      <td>FIX MATCH.pdf</td>\n",
       "      <td>E:\\thesis\\Prev Papers</td>\n",
       "      <td>0.770166 MB</td>\n",
       "      <td>02-26-2021-04-54-50</td>\n",
       "    </tr>\n",
       "    <tr>\n",
       "      <th>9</th>\n",
       "      <td>Lec6_Search5-F2010-4up.pdf</td>\n",
       "      <td>E:\\thesis\\Prev Papers</td>\n",
       "      <td>0.198568 MB</td>\n",
       "      <td>01-03-2021-02-26-51</td>\n",
       "    </tr>\n",
       "    <tr>\n",
       "      <th>10</th>\n",
       "      <td>NeurIPS-2020-big-self-supervised-models-are-st...</td>\n",
       "      <td>E:\\thesis\\Prev Papers</td>\n",
       "      <td>0.442188 MB</td>\n",
       "      <td>12-21-2020-06-57-39</td>\n",
       "    </tr>\n",
       "    <tr>\n",
       "      <th>11</th>\n",
       "      <td>NeurIPS-2020-bootstrap-your-own-latent-a-new-a...</td>\n",
       "      <td>E:\\thesis\\Prev Papers</td>\n",
       "      <td>0.812358 MB</td>\n",
       "      <td>12-21-2020-06-53-01</td>\n",
       "    </tr>\n",
       "    <tr>\n",
       "      <th>12</th>\n",
       "      <td>NeurIPS-2020-unsupervised-learning-of-visual-f...</td>\n",
       "      <td>E:\\thesis\\Prev Papers</td>\n",
       "      <td>0.394613 MB</td>\n",
       "      <td>12-23-2020-12-41-51</td>\n",
       "    </tr>\n",
       "    <tr>\n",
       "      <th>13</th>\n",
       "      <td>Patterns of Enterprise Application Architectur...</td>\n",
       "      <td>E:\\thesis\\Prev Papers</td>\n",
       "      <td>4.087022 MB</td>\n",
       "      <td>12-22-2020-01-10-15</td>\n",
       "    </tr>\n",
       "    <tr>\n",
       "      <th>14</th>\n",
       "      <td>remixmatch_semi_supervised_learning_with_distr...</td>\n",
       "      <td>E:\\thesis\\Prev Papers</td>\n",
       "      <td>0.287147 MB</td>\n",
       "      <td>12-22-2020-11-40-17</td>\n",
       "    </tr>\n",
       "    <tr>\n",
       "      <th>15</th>\n",
       "      <td>veloso-PDDL_by_Example.pdf</td>\n",
       "      <td>E:\\thesis\\Prev Papers</td>\n",
       "      <td>0.061061 MB</td>\n",
       "      <td>01-07-2021-09-51-15</td>\n",
       "    </tr>\n",
       "  </tbody>\n",
       "</table>\n",
       "</div>"
      ],
      "text/plain": [
       "                                                 name                   path  \\\n",
       "0                                      1908.02983.pdf  E:\\thesis\\Prev Papers   \n",
       "1                                      2101.06480.pdf  E:\\thesis\\Prev Papers   \n",
       "2                                      Alphamatch.pdf  E:\\thesis\\Prev Papers   \n",
       "3                                         chen20s.pdf  E:\\thesis\\Prev Papers   \n",
       "4                cs5811-ch03-search-b-informed-v2.pdf  E:\\thesis\\Prev Papers   \n",
       "5              cs5811-ch03-search-b-informed-v2_2.pdf  E:\\thesis\\Prev Papers   \n",
       "6                            CSD Research Summary.pdf  E:\\thesis\\Prev Papers   \n",
       "7                                          ex-ans.pdf  E:\\thesis\\Prev Papers   \n",
       "8                                       FIX MATCH.pdf  E:\\thesis\\Prev Papers   \n",
       "9                          Lec6_Search5-F2010-4up.pdf  E:\\thesis\\Prev Papers   \n",
       "10  NeurIPS-2020-big-self-supervised-models-are-st...  E:\\thesis\\Prev Papers   \n",
       "11  NeurIPS-2020-bootstrap-your-own-latent-a-new-a...  E:\\thesis\\Prev Papers   \n",
       "12  NeurIPS-2020-unsupervised-learning-of-visual-f...  E:\\thesis\\Prev Papers   \n",
       "13  Patterns of Enterprise Application Architectur...  E:\\thesis\\Prev Papers   \n",
       "14  remixmatch_semi_supervised_learning_with_distr...  E:\\thesis\\Prev Papers   \n",
       "15                         veloso-PDDL_by_Example.pdf  E:\\thesis\\Prev Papers   \n",
       "\n",
       "           size   last_modified_date  \n",
       "0   0.923003 MB  12-23-2020-01-26-27  \n",
       "1   0.366533 MB  04-22-2021-10-09-50  \n",
       "2   3.448169 MB  03-08-2021-01-05-10  \n",
       "3   2.093643 MB  12-22-2020-11-42-03  \n",
       "4   0.342854 MB  01-03-2021-02-26-51  \n",
       "5   0.342854 MB  01-03-2021-11-07-36  \n",
       "6   0.068904 MB  03-12-2021-09-43-00  \n",
       "7   0.195509 MB  01-09-2021-04-07-59  \n",
       "8   0.770166 MB  02-26-2021-04-54-50  \n",
       "9   0.198568 MB  01-03-2021-02-26-51  \n",
       "10  0.442188 MB  12-21-2020-06-57-39  \n",
       "11  0.812358 MB  12-21-2020-06-53-01  \n",
       "12  0.394613 MB  12-23-2020-12-41-51  \n",
       "13  4.087022 MB  12-22-2020-01-10-15  \n",
       "14  0.287147 MB  12-22-2020-11-40-17  \n",
       "15  0.061061 MB  01-07-2021-09-51-15  "
      ]
     },
     "execution_count": 115,
     "metadata": {},
     "output_type": "execute_result"
    }
   ],
   "source": [
    "df = pd.DataFrame(files)\n",
    "df"
   ]
  },
  {
   "cell_type": "code",
   "execution_count": 116,
   "metadata": {},
   "outputs": [
    {
     "name": "stdout",
     "output_type": "stream",
     "text": [
      "NANI\n"
     ]
    }
   ],
   "source": [
    "\n",
    "now = datetime.now() # current date and time\n",
    "date_time = now.strftime(\"%m-%d-%Y-%I-%M-%S\")\n",
    "\n"
   ]
  },
  {
   "cell_type": "code",
   "execution_count": 106,
   "metadata": {
    "scrolled": false
   },
   "outputs": [],
   "source": [
    "dt_1 = datetime(2016,7,26,3,26,27)\n",
    "dt_2 = datetime(2016,7,26,2,26,27)"
   ]
  },
  {
   "cell_type": "code",
   "execution_count": 109,
   "metadata": {
    "scrolled": true
   },
   "outputs": [
    {
     "name": "stdout",
     "output_type": "stream",
     "text": [
      "1:00:00\n"
     ]
    }
   ],
   "source": [
    "print(dt_1-dt_2)"
   ]
  },
  {
   "cell_type": "code",
   "execution_count": 125,
   "metadata": {},
   "outputs": [
    {
     "data": {
      "text/plain": [
       "['04', '23', '2021', '12', '08', '08']"
      ]
     },
     "execution_count": 125,
     "metadata": {},
     "output_type": "execute_result"
    }
   ],
   "source": [
    "x = (date_time.split(\"-\"))\n",
    "x"
   ]
  },
  {
   "cell_type": "code",
   "execution_count": 129,
   "metadata": {},
   "outputs": [],
   "source": [
    "results = list(map(int, x))\n"
   ]
  },
  {
   "cell_type": "code",
   "execution_count": 130,
   "metadata": {},
   "outputs": [
    {
     "data": {
      "text/plain": [
       "[4, 23, 2021, 12, 8, 8]"
      ]
     },
     "execution_count": 130,
     "metadata": {},
     "output_type": "execute_result"
    }
   ],
   "source": [
    "results"
   ]
  },
  {
   "cell_type": "code",
   "execution_count": null,
   "metadata": {},
   "outputs": [],
   "source": []
  }
 ],
 "metadata": {
  "kernelspec": {
   "display_name": "Python 3",
   "language": "python",
   "name": "python3"
  },
  "language_info": {
   "codemirror_mode": {
    "name": "ipython",
    "version": 3
   },
   "file_extension": ".py",
   "mimetype": "text/x-python",
   "name": "python",
   "nbconvert_exporter": "python",
   "pygments_lexer": "ipython3",
   "version": "3.7.6"
  }
 },
 "nbformat": 4,
 "nbformat_minor": 4
}
